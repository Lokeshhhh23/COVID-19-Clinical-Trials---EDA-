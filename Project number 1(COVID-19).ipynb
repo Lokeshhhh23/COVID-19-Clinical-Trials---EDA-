{
 "cells": [
  {
   "cell_type": "markdown",
   "id": "e38ea7c1-c56b-411e-b74d-76341b8970fc",
   "metadata": {},
   "source": [
    "**Exploratory Data Analysis(EDA) of COVID-19 Clinical Trials**"
   ]
  },
  {
   "cell_type": "markdown",
   "id": "ea30e843-5065-440b-9b68-87b2dd468389",
   "metadata": {},
   "source": [
    "Dataset Description - ClinicalTrials.gov is a database of privately and publicly funded clinical studies\n",
    " conducted around the world. It is maintained by the National Institute of Health. All data\n",
    " is publicly available and the site provides a direct download feature which makes it\n",
    " super easy to use relevant data for analysis.\n",
    " This dataset consists of clinical trials related to COVID 19 studies presented on the\n",
    " site."
   ]
  },
  {
   "cell_type": "markdown",
   "id": "124016e0-66f8-4d5b-b952-c09a591f884e",
   "metadata": {},
   "source": [
    "**Objective**\n",
    "\n",
    "The objective is to explore the dataset to gain insights into the characteristics of COVID-19 clinical trials, such as their\n",
    "status, phases, study designs, and demographics."
   ]
  },
  {
   "cell_type": "markdown",
   "id": "fb24d96c-dc8f-433b-8977-2165ab4dc905",
   "metadata": {},
   "source": [
    "**Importing Libraries and Loading Data**"
   ]
  },
  {
   "cell_type": "code",
   "execution_count": 3,
   "id": "016ea871-dcc8-4e53-93a5-8c4809ea0f38",
   "metadata": {},
   "outputs": [],
   "source": [
    "import numpy as np\n",
    "import pandas as pd\n",
    "import matplotlib.pyplot as plt\n",
    "import seaborn as sns"
   ]
  },
  {
   "cell_type": "code",
   "execution_count": 4,
   "id": "c1d4dbaa-633c-4ad6-8c2d-406776d580cb",
   "metadata": {},
   "outputs": [],
   "source": [
    "df = pd.read_csv('COVID clinical trials.csv')"
   ]
  },
  {
   "cell_type": "markdown",
   "id": "64db5df2-0ae1-44e6-90ed-ada3823d87ff",
   "metadata": {},
   "source": [
    "**Initial Data Exploration**\n"
   ]
  },
  {
   "cell_type": "code",
   "execution_count": 23,
   "id": "06999864-4cd8-4949-bbf6-fcffc9700d4a",
   "metadata": {},
   "outputs": [
    {
     "data": {
      "text/html": [
       "<div>\n",
       "<style scoped>\n",
       "    .dataframe tbody tr th:only-of-type {\n",
       "        vertical-align: middle;\n",
       "    }\n",
       "\n",
       "    .dataframe tbody tr th {\n",
       "        vertical-align: top;\n",
       "    }\n",
       "\n",
       "    .dataframe thead th {\n",
       "        text-align: right;\n",
       "    }\n",
       "</style>\n",
       "<table border=\"1\" class=\"dataframe\">\n",
       "  <thead>\n",
       "    <tr style=\"text-align: right;\">\n",
       "      <th></th>\n",
       "      <th>Rank</th>\n",
       "      <th>NCT Number</th>\n",
       "      <th>Title</th>\n",
       "      <th>Acronym</th>\n",
       "      <th>Status</th>\n",
       "      <th>Study Results</th>\n",
       "      <th>Conditions</th>\n",
       "      <th>Interventions</th>\n",
       "      <th>Outcome Measures</th>\n",
       "      <th>Sponsor/Collaborators</th>\n",
       "      <th>...</th>\n",
       "      <th>Other IDs</th>\n",
       "      <th>Start Date</th>\n",
       "      <th>Primary Completion Date</th>\n",
       "      <th>Completion Date</th>\n",
       "      <th>First Posted</th>\n",
       "      <th>Results First Posted</th>\n",
       "      <th>Last Update Posted</th>\n",
       "      <th>Locations</th>\n",
       "      <th>Study Documents</th>\n",
       "      <th>URL</th>\n",
       "    </tr>\n",
       "  </thead>\n",
       "  <tbody>\n",
       "    <tr>\n",
       "      <th>0</th>\n",
       "      <td>1</td>\n",
       "      <td>NCT04785898</td>\n",
       "      <td>Diagnostic Performance of the ID Now™ COVID-19...</td>\n",
       "      <td>COVID-IDNow</td>\n",
       "      <td>Active, not recruiting</td>\n",
       "      <td>No Results Available</td>\n",
       "      <td>Covid19</td>\n",
       "      <td>Diagnostic Test: ID Now™ COVID-19 Screening Test</td>\n",
       "      <td>Evaluate the diagnostic performance of the ID ...</td>\n",
       "      <td>Groupe Hospitalier Paris Saint Joseph</td>\n",
       "      <td>...</td>\n",
       "      <td>COVID-IDNow</td>\n",
       "      <td>November 9, 2020</td>\n",
       "      <td>December 22, 2020</td>\n",
       "      <td>April 30, 2021</td>\n",
       "      <td>March 8, 2021</td>\n",
       "      <td>NaN</td>\n",
       "      <td>March 8, 2021</td>\n",
       "      <td>Groupe Hospitalier Paris Saint-Joseph, Paris, ...</td>\n",
       "      <td>NaN</td>\n",
       "      <td>https://ClinicalTrials.gov/show/NCT04785898</td>\n",
       "    </tr>\n",
       "    <tr>\n",
       "      <th>1</th>\n",
       "      <td>2</td>\n",
       "      <td>NCT04595136</td>\n",
       "      <td>Study to Evaluate the Efficacy of COVID19-0001...</td>\n",
       "      <td>COVID-19</td>\n",
       "      <td>Not yet recruiting</td>\n",
       "      <td>No Results Available</td>\n",
       "      <td>SARS-CoV-2 Infection</td>\n",
       "      <td>Drug: Drug COVID19-0001-USR|Drug: normal saline</td>\n",
       "      <td>Change on viral load results from baseline aft...</td>\n",
       "      <td>United Medical Specialties</td>\n",
       "      <td>...</td>\n",
       "      <td>COVID19-0001-USR</td>\n",
       "      <td>November 2, 2020</td>\n",
       "      <td>December 15, 2020</td>\n",
       "      <td>January 29, 2021</td>\n",
       "      <td>October 20, 2020</td>\n",
       "      <td>NaN</td>\n",
       "      <td>October 20, 2020</td>\n",
       "      <td>Cimedical, Barranquilla, Atlantico, Colombia</td>\n",
       "      <td>NaN</td>\n",
       "      <td>https://ClinicalTrials.gov/show/NCT04595136</td>\n",
       "    </tr>\n",
       "    <tr>\n",
       "      <th>2</th>\n",
       "      <td>3</td>\n",
       "      <td>NCT04395482</td>\n",
       "      <td>Lung CT Scan Analysis of SARS-CoV2 Induced Lun...</td>\n",
       "      <td>TAC-COVID19</td>\n",
       "      <td>Recruiting</td>\n",
       "      <td>No Results Available</td>\n",
       "      <td>covid19</td>\n",
       "      <td>Other: Lung CT scan analysis in COVID-19 patients</td>\n",
       "      <td>A qualitative analysis of parenchymal lung dam...</td>\n",
       "      <td>University of Milano Bicocca</td>\n",
       "      <td>...</td>\n",
       "      <td>TAC-COVID19</td>\n",
       "      <td>May 7, 2020</td>\n",
       "      <td>June 15, 2021</td>\n",
       "      <td>June 15, 2021</td>\n",
       "      <td>May 20, 2020</td>\n",
       "      <td>NaN</td>\n",
       "      <td>November 9, 2020</td>\n",
       "      <td>Ospedale Papa Giovanni XXIII, Bergamo, Italy|P...</td>\n",
       "      <td>NaN</td>\n",
       "      <td>https://ClinicalTrials.gov/show/NCT04395482</td>\n",
       "    </tr>\n",
       "    <tr>\n",
       "      <th>3</th>\n",
       "      <td>4</td>\n",
       "      <td>NCT04416061</td>\n",
       "      <td>The Role of a Private Hospital in Hong Kong Am...</td>\n",
       "      <td>COVID-19</td>\n",
       "      <td>Active, not recruiting</td>\n",
       "      <td>No Results Available</td>\n",
       "      <td>COVID</td>\n",
       "      <td>Diagnostic Test: COVID 19 Diagnostic Test</td>\n",
       "      <td>Proportion of asymptomatic subjects|Proportion...</td>\n",
       "      <td>Hong Kong Sanatorium &amp; Hospital</td>\n",
       "      <td>...</td>\n",
       "      <td>RC-2020-08</td>\n",
       "      <td>May 25, 2020</td>\n",
       "      <td>July 31, 2020</td>\n",
       "      <td>August 31, 2020</td>\n",
       "      <td>June 4, 2020</td>\n",
       "      <td>NaN</td>\n",
       "      <td>June 4, 2020</td>\n",
       "      <td>Hong Kong Sanatorium &amp; Hospital, Hong Kong, Ho...</td>\n",
       "      <td>NaN</td>\n",
       "      <td>https://ClinicalTrials.gov/show/NCT04416061</td>\n",
       "    </tr>\n",
       "    <tr>\n",
       "      <th>4</th>\n",
       "      <td>5</td>\n",
       "      <td>NCT04395924</td>\n",
       "      <td>Maternal-foetal Transmission of SARS-Cov-2</td>\n",
       "      <td>TMF-COVID-19</td>\n",
       "      <td>Recruiting</td>\n",
       "      <td>No Results Available</td>\n",
       "      <td>Maternal Fetal Infection Transmission|COVID-19...</td>\n",
       "      <td>Diagnostic Test: Diagnosis of SARS-Cov2 by RT-...</td>\n",
       "      <td>COVID-19 by positive PCR in cord blood and / o...</td>\n",
       "      <td>Centre Hospitalier Régional d'Orléans|Centre d...</td>\n",
       "      <td>...</td>\n",
       "      <td>CHRO-2020-10</td>\n",
       "      <td>May 5, 2020</td>\n",
       "      <td>May 2021</td>\n",
       "      <td>May 2021</td>\n",
       "      <td>May 20, 2020</td>\n",
       "      <td>NaN</td>\n",
       "      <td>June 4, 2020</td>\n",
       "      <td>CHR Orléans, Orléans, France</td>\n",
       "      <td>NaN</td>\n",
       "      <td>https://ClinicalTrials.gov/show/NCT04395924</td>\n",
       "    </tr>\n",
       "  </tbody>\n",
       "</table>\n",
       "<p>5 rows × 27 columns</p>\n",
       "</div>"
      ],
      "text/plain": [
       "   Rank   NCT Number                                              Title  \\\n",
       "0     1  NCT04785898  Diagnostic Performance of the ID Now™ COVID-19...   \n",
       "1     2  NCT04595136  Study to Evaluate the Efficacy of COVID19-0001...   \n",
       "2     3  NCT04395482  Lung CT Scan Analysis of SARS-CoV2 Induced Lun...   \n",
       "3     4  NCT04416061  The Role of a Private Hospital in Hong Kong Am...   \n",
       "4     5  NCT04395924         Maternal-foetal Transmission of SARS-Cov-2   \n",
       "\n",
       "        Acronym                  Status         Study Results  \\\n",
       "0   COVID-IDNow  Active, not recruiting  No Results Available   \n",
       "1      COVID-19      Not yet recruiting  No Results Available   \n",
       "2   TAC-COVID19              Recruiting  No Results Available   \n",
       "3      COVID-19  Active, not recruiting  No Results Available   \n",
       "4  TMF-COVID-19              Recruiting  No Results Available   \n",
       "\n",
       "                                          Conditions  \\\n",
       "0                                            Covid19   \n",
       "1                               SARS-CoV-2 Infection   \n",
       "2                                            covid19   \n",
       "3                                              COVID   \n",
       "4  Maternal Fetal Infection Transmission|COVID-19...   \n",
       "\n",
       "                                       Interventions  \\\n",
       "0   Diagnostic Test: ID Now™ COVID-19 Screening Test   \n",
       "1    Drug: Drug COVID19-0001-USR|Drug: normal saline   \n",
       "2  Other: Lung CT scan analysis in COVID-19 patients   \n",
       "3          Diagnostic Test: COVID 19 Diagnostic Test   \n",
       "4  Diagnostic Test: Diagnosis of SARS-Cov2 by RT-...   \n",
       "\n",
       "                                    Outcome Measures  \\\n",
       "0  Evaluate the diagnostic performance of the ID ...   \n",
       "1  Change on viral load results from baseline aft...   \n",
       "2  A qualitative analysis of parenchymal lung dam...   \n",
       "3  Proportion of asymptomatic subjects|Proportion...   \n",
       "4  COVID-19 by positive PCR in cord blood and / o...   \n",
       "\n",
       "                               Sponsor/Collaborators  ...         Other IDs  \\\n",
       "0              Groupe Hospitalier Paris Saint Joseph  ...       COVID-IDNow   \n",
       "1                         United Medical Specialties  ...  COVID19-0001-USR   \n",
       "2                       University of Milano Bicocca  ...       TAC-COVID19   \n",
       "3                    Hong Kong Sanatorium & Hospital  ...        RC-2020-08   \n",
       "4  Centre Hospitalier Régional d'Orléans|Centre d...  ...      CHRO-2020-10   \n",
       "\n",
       "         Start Date Primary Completion Date   Completion Date  \\\n",
       "0  November 9, 2020       December 22, 2020    April 30, 2021   \n",
       "1  November 2, 2020       December 15, 2020  January 29, 2021   \n",
       "2       May 7, 2020           June 15, 2021     June 15, 2021   \n",
       "3      May 25, 2020           July 31, 2020   August 31, 2020   \n",
       "4       May 5, 2020                May 2021          May 2021   \n",
       "\n",
       "       First Posted Results First Posted Last Update Posted  \\\n",
       "0     March 8, 2021                  NaN      March 8, 2021   \n",
       "1  October 20, 2020                  NaN   October 20, 2020   \n",
       "2      May 20, 2020                  NaN   November 9, 2020   \n",
       "3      June 4, 2020                  NaN       June 4, 2020   \n",
       "4      May 20, 2020                  NaN       June 4, 2020   \n",
       "\n",
       "                                           Locations Study Documents  \\\n",
       "0  Groupe Hospitalier Paris Saint-Joseph, Paris, ...             NaN   \n",
       "1       Cimedical, Barranquilla, Atlantico, Colombia             NaN   \n",
       "2  Ospedale Papa Giovanni XXIII, Bergamo, Italy|P...             NaN   \n",
       "3  Hong Kong Sanatorium & Hospital, Hong Kong, Ho...             NaN   \n",
       "4                       CHR Orléans, Orléans, France             NaN   \n",
       "\n",
       "                                           URL  \n",
       "0  https://ClinicalTrials.gov/show/NCT04785898  \n",
       "1  https://ClinicalTrials.gov/show/NCT04595136  \n",
       "2  https://ClinicalTrials.gov/show/NCT04395482  \n",
       "3  https://ClinicalTrials.gov/show/NCT04416061  \n",
       "4  https://ClinicalTrials.gov/show/NCT04395924  \n",
       "\n",
       "[5 rows x 27 columns]"
      ]
     },
     "execution_count": 23,
     "metadata": {},
     "output_type": "execute_result"
    }
   ],
   "source": [
    "df.head(5)"
   ]
  },
  {
   "cell_type": "code",
   "execution_count": 25,
   "id": "e840c072-c901-4d6c-afef-e75802d119aa",
   "metadata": {},
   "outputs": [
    {
     "data": {
      "text/plain": [
       "(5783, 27)"
      ]
     },
     "execution_count": 25,
     "metadata": {},
     "output_type": "execute_result"
    }
   ],
   "source": [
    "#shape of the dataset\n",
    "df.shape"
   ]
  },
  {
   "cell_type": "code",
   "execution_count": 26,
   "id": "bf963ac0-6d39-4b07-b5dd-38074d58859d",
   "metadata": {},
   "outputs": [
    {
     "name": "stdout",
     "output_type": "stream",
     "text": [
      "<class 'pandas.core.frame.DataFrame'>\n",
      "RangeIndex: 5783 entries, 0 to 5782\n",
      "Data columns (total 27 columns):\n",
      " #   Column                   Non-Null Count  Dtype  \n",
      "---  ------                   --------------  -----  \n",
      " 0   Rank                     5783 non-null   int64  \n",
      " 1   NCT Number               5783 non-null   object \n",
      " 2   Title                    5783 non-null   object \n",
      " 3   Acronym                  2480 non-null   object \n",
      " 4   Status                   5783 non-null   object \n",
      " 5   Study Results            5783 non-null   object \n",
      " 6   Conditions               5783 non-null   object \n",
      " 7   Interventions            4897 non-null   object \n",
      " 8   Outcome Measures         5748 non-null   object \n",
      " 9   Sponsor/Collaborators    5783 non-null   object \n",
      " 10  Gender                   5773 non-null   object \n",
      " 11  Age                      5783 non-null   object \n",
      " 12  Phases                   3322 non-null   object \n",
      " 13  Enrollment               5749 non-null   float64\n",
      " 14  Funded Bys               5783 non-null   object \n",
      " 15  Study Type               5783 non-null   object \n",
      " 16  Study Designs            5748 non-null   object \n",
      " 17  Other IDs                5782 non-null   object \n",
      " 18  Start Date               5749 non-null   object \n",
      " 19  Primary Completion Date  5747 non-null   object \n",
      " 20  Completion Date          5747 non-null   object \n",
      " 21  First Posted             5783 non-null   object \n",
      " 22  Results First Posted     36 non-null     object \n",
      " 23  Last Update Posted       5783 non-null   object \n",
      " 24  Locations                5198 non-null   object \n",
      " 25  Study Documents          182 non-null    object \n",
      " 26  URL                      5783 non-null   object \n",
      "dtypes: float64(1), int64(1), object(25)\n",
      "memory usage: 1.2+ MB\n"
     ]
    }
   ],
   "source": [
    "#Check the columns and data types\n",
    "df.info()"
   ]
  },
  {
   "cell_type": "code",
   "execution_count": 31,
   "id": "ed48d95b-cab0-474a-85bb-05b75d3813fd",
   "metadata": {},
   "outputs": [
    {
     "data": {
      "text/plain": [
       "Index(['NCT Number', 'Title', 'Acronym', 'Status', 'Study Results',\n",
       "       'Conditions', 'Interventions', 'Outcome Measures',\n",
       "       'Sponsor/Collaborators', 'Gender', 'Age', 'Phases', 'Funded Bys',\n",
       "       'Study Type', 'Study Designs', 'Other IDs', 'Start Date',\n",
       "       'Primary Completion Date', 'Completion Date', 'First Posted',\n",
       "       'Results First Posted', 'Last Update Posted', 'Locations',\n",
       "       'Study Documents', 'URL'],\n",
       "      dtype='object')"
      ]
     },
     "execution_count": 31,
     "metadata": {},
     "output_type": "execute_result"
    }
   ],
   "source": [
    "#categorical features\n",
    "df.select_dtypes(include='object').columns"
   ]
  },
  {
   "cell_type": "code",
   "execution_count": 32,
   "id": "9b6a8490-7f77-46d5-bb31-58f0c5d3acf5",
   "metadata": {},
   "outputs": [
    {
     "data": {
      "text/plain": [
       "Index(['Rank', 'Enrollment'], dtype='object')"
      ]
     },
     "execution_count": 32,
     "metadata": {},
     "output_type": "execute_result"
    }
   ],
   "source": [
    "#Numerical features\n",
    "df.select_dtypes(exclude='object').columns"
   ]
  },
  {
   "cell_type": "markdown",
   "id": "3178a921-4f98-4070-a303-468ba700461a",
   "metadata": {},
   "source": [
    "**Handling Missing Data**"
   ]
  },
  {
   "cell_type": "code",
   "execution_count": 65,
   "id": "814de037-4aea-42b6-9c6c-475125dd38fb",
   "metadata": {},
   "outputs": [
    {
     "data": {
      "text/plain": [
       "Rank                        0.000000\n",
       "NCT Number                  0.000000\n",
       "Title                       0.000000\n",
       "Acronym                    57.115684\n",
       "Status                      0.000000\n",
       "Study Results               0.000000\n",
       "Conditions                  0.000000\n",
       "Interventions              15.320768\n",
       "Outcome Measures            0.605222\n",
       "Sponsor/Collaborators       0.000000\n",
       "Gender                      0.172921\n",
       "Age                         0.000000\n",
       "Phases                     42.555767\n",
       "Enrollment                  0.587930\n",
       "Funded Bys                  0.000000\n",
       "Study Type                  0.000000\n",
       "Study Designs               0.605222\n",
       "Other IDs                   0.017292\n",
       "Start Date                  0.587930\n",
       "Primary Completion Date     0.622514\n",
       "Completion Date             0.622514\n",
       "First Posted                0.000000\n",
       "Results First Posted       99.377486\n",
       "Last Update Posted          0.000000\n",
       "Locations                  10.115857\n",
       "Study Documents            96.852845\n",
       "URL                         0.000000\n",
       "dtype: float64"
      ]
     },
     "execution_count": 65,
     "metadata": {},
     "output_type": "execute_result"
    }
   ],
   "source": [
    "#Detecting(percentage) Missing Data\n",
    "missing_data = df.isnull().mean()*100\n",
    "missing_data"
   ]
  },
  {
   "cell_type": "code",
   "execution_count": 66,
   "id": "6f5bfc62-1e0e-400f-9897-368b8b2054ef",
   "metadata": {},
   "outputs": [],
   "source": [
    "#visualize Data without calculating \n",
    "def visualize_data(data,caption = '', ylabel = 'Percentage of Missing Data'):\n",
    "    plt.figure(figsize=(8,6))\n",
    "    #sns.set(rc={'figure.figsize':(8,6)})\n",
    "    plt.xticks(rotation=90)\n",
    "    fig = sns.barplot(x=data.keys()[:min(40,len(data))].tolist(),y = data.values[:min(40,len(data))].tolist())\\\n",
    "    .set_title(caption)\n",
    "    plt.ylabel(ylabel)\n",
    "    plt.show()\n",
    "    "
   ]
  },
  {
   "cell_type": "code",
   "execution_count": 67,
   "id": "7c88ed36-2dc3-4c1b-8870-5e2a5e358e22",
   "metadata": {},
   "outputs": [
    {
     "data": {
      "image/png": "[encoded data removed]",
      "text/plain": [
       "<Figure size 800x600 with 1 Axes>"
      ]
     },
     "metadata": {},
     "output_type": "display_data"
    }
   ],
   "source": [
    "visualize_data(missing_data,'Percentage of missing data in each feature')"
   ]
  },
  {
   "cell_type": "markdown",
   "id": "2aa3c4ce-9d02-414d-9be3-e70347e449c0",
   "metadata": {},
   "source": [
    "As shown the percentage of missing data in Results first Posted is 99.3% and Study Documents is 96.8%, so it's impossible \n",
    "to impute without destroying out dataset."
   ]
  },
  {
   "cell_type": "code",
   "execution_count": 68,
   "id": "c3d65f74-64ef-4edb-b061-db191d5ba195",
   "metadata": {},
   "outputs": [],
   "source": [
    "#Drop Study Documents and Results First Posted\n",
    "df.drop(['Results First Posted','Study Documents','Rank'],inplace = True , axis = 1)"
   ]
  },
  {
   "cell_type": "code",
   "execution_count": 69,
   "id": "d817cee4-4f70-4f4a-bb69-e9ae75aebbef",
   "metadata": {},
   "outputs": [
    {
     "data": {
      "text/plain": [
       "Index(['NCT Number', 'Title', 'Acronym', 'Status', 'Study Results',\n",
       "       'Conditions', 'Interventions', 'Outcome Measures',\n",
       "       'Sponsor/Collaborators', 'Gender', 'Age', 'Phases', 'Enrollment',\n",
       "       'Funded Bys', 'Study Type', 'Study Designs', 'Other IDs', 'Start Date',\n",
       "       'Primary Completion Date', 'Completion Date', 'First Posted',\n",
       "       'Last Update Posted', 'Locations', 'URL'],\n",
       "      dtype='object')"
      ]
     },
     "execution_count": 69,
     "metadata": {},
     "output_type": "execute_result"
    }
   ],
   "source": [
    "df.columns"
   ]
  },
  {
   "cell_type": "code",
   "execution_count": 70,
   "id": "16d0c38d-d7a0-41b7-a40f-04be2bc7d719",
   "metadata": {},
   "outputs": [
    {
     "data": {
      "text/plain": [
       "(5783, 24)"
      ]
     },
     "execution_count": 70,
     "metadata": {},
     "output_type": "execute_result"
    }
   ],
   "source": [
    "#Drop Duplicate Rows\n",
    "df.shape"
   ]
  },
  {
   "cell_type": "code",
   "execution_count": 71,
   "id": "1a457195-ba84-48bb-91c4-3479f767348e",
   "metadata": {},
   "outputs": [],
   "source": [
    "df.drop_duplicates(inplace = True)"
   ]
  },
  {
   "cell_type": "code",
   "execution_count": 73,
   "id": "8bc64604-1da7-42a7-bf7e-ba6381f3b469",
   "metadata": {},
   "outputs": [
    {
     "data": {
      "text/plain": [
       "(5783, 24)"
      ]
     },
     "execution_count": 73,
     "metadata": {},
     "output_type": "execute_result"
    }
   ],
   "source": [
    "df.shape"
   ]
  },
  {
   "cell_type": "markdown",
   "id": "e3c62e45-151c-43a3-bba2-2329b770f38f",
   "metadata": {},
   "source": [
    "There is no Duplicate rows in the dataset"
   ]
  },
  {
   "cell_type": "code",
   "execution_count": 5,
   "id": "1a30a74f-4e0c-43a9-b573-3a079b979ff9",
   "metadata": {},
   "outputs": [
    {
     "data": {
      "text/plain": [
       "Rank                        0.000000\n",
       "NCT Number                  0.000000\n",
       "Title                       0.000000\n",
       "Acronym                    57.115684\n",
       "Status                      0.000000\n",
       "Study Results               0.000000\n",
       "Conditions                  0.000000\n",
       "Interventions              15.320768\n",
       "Outcome Measures            0.605222\n",
       "Sponsor/Collaborators       0.000000\n",
       "Gender                      0.172921\n",
       "Age                         0.000000\n",
       "Phases                     42.555767\n",
       "Enrollment                  0.587930\n",
       "Funded Bys                  0.000000\n",
       "Study Type                  0.000000\n",
       "Study Designs               0.605222\n",
       "Other IDs                   0.017292\n",
       "Start Date                  0.587930\n",
       "Primary Completion Date     0.622514\n",
       "Completion Date             0.622514\n",
       "First Posted                0.000000\n",
       "Results First Posted       99.377486\n",
       "Last Update Posted          0.000000\n",
       "Locations                  10.115857\n",
       "Study Documents            96.852845\n",
       "URL                         0.000000\n",
       "dtype: float64"
      ]
     },
     "execution_count": 5,
     "metadata": {},
     "output_type": "execute_result"
    }
   ],
   "source": [
    "df.isnull().mean()*100"
   ]
  },
  {
   "cell_type": "code",
   "execution_count": 78,
   "id": "09661696-b4dd-4f9c-8270-b17effe10d1e",
   "metadata": {},
   "outputs": [],
   "source": [
    "#we can extract a new feature form the location which is the country where the study hold\n",
    "\n",
    "countries = [ str(df.Locations.iloc[i]).split(',')[-1] for i in range(df.shape[0])]\n",
    "df['Country']=countries"
   ]
  },
  {
   "cell_type": "code",
   "execution_count": 79,
   "id": "e637b9e9-3266-49bd-8dc6-12f61fca4ce8",
   "metadata": {},
   "outputs": [
    {
     "data": {
      "text/plain": [
       "Index(['NCT Number', 'Title', 'Acronym', 'Status', 'Study Results',\n",
       "       'Conditions', 'Interventions', 'Outcome Measures',\n",
       "       'Sponsor/Collaborators', 'Gender', 'Age', 'Phases', 'Enrollment',\n",
       "       'Funded Bys', 'Study Type', 'Study Designs', 'Other IDs', 'Start Date',\n",
       "       'Primary Completion Date', 'Completion Date', 'First Posted',\n",
       "       'Last Update Posted', 'Locations', 'URL', 'Country'],\n",
       "      dtype='object')"
      ]
     },
     "execution_count": 79,
     "metadata": {},
     "output_type": "execute_result"
    }
   ],
   "source": [
    "df.columns"
   ]
  },
  {
   "cell_type": "code",
   "execution_count": 81,
   "id": "46d6d44c-822f-4e36-a22a-36c44948dc99",
   "metadata": {},
   "outputs": [
    {
     "data": {
      "text/plain": [
       "Country\n",
       " United States          1267\n",
       " France                  647\n",
       "nan                      585\n",
       " United Kingdom          306\n",
       " Italy                   235\n",
       " Spain                   234\n",
       " Turkey                  219\n",
       " Canada                  202\n",
       " Egypt                   192\n",
       " China                   171\n",
       " Brazil                  137\n",
       " Germany                 128\n",
       " Belgium                  91\n",
       " Mexico                   88\n",
       " Switzerland              76\n",
       " Russian Federation       69\n",
       " Sweden                   57\n",
       " Denmark                  56\n",
       " Israel                   56\n",
       " India                    55\n",
       " Pakistan                 53\n",
       " Argentina                47\n",
       " Netherlands              46\n",
       " Norway                   38\n",
       " Hong Kong                36\n",
       " Colombia                 33\n",
       " Republic of              31\n",
       " Austria                  29\n",
       " Poland                   29\n",
       " Singapore                29\n",
       " Saudi Arabia             27\n",
       " Australia                26\n",
       " Greece                   26\n",
       " Islamic Republic of      23\n",
       " South Africa             22\n",
       "Name: count, dtype: int64"
      ]
     },
     "execution_count": 81,
     "metadata": {},
     "output_type": "execute_result"
    }
   ],
   "source": [
    "df.Country.value_counts()[:35]"
   ]
  },
  {
   "cell_type": "markdown",
   "id": "42b2bc62-3f64-4499-bbdc-c1649153b653",
   "metadata": {},
   "source": [
    "**Now We need to clasify the missing data to one of these categories**"
   ]
  },
  {
   "cell_type": "markdown",
   "id": "350b6aec-73ce-43e5-98e8-21732a404c69",
   "metadata": {},
   "source": [
    "1. Missing Completely at random(MCAR)\n",
    "2. Missing at Random(MAR)\n",
    "3. Not Missing at Random(NMAR)"
   ]
  },
  {
   "cell_type": "code",
   "execution_count": 84,
   "id": "89068e15-a22c-41d2-ba79-40c311443159",
   "metadata": {},
   "outputs": [
    {
     "name": "stdout",
     "output_type": "stream",
     "text": [
      "Number of unique values is 2338\n"
     ]
    },
    {
     "data": {
      "text/plain": [
       "Acronym\n",
       "COVID-19        47\n",
       "PROTECT          7\n",
       "CORONA           6\n",
       "RECOVER          5\n",
       "SCOPE            5\n",
       "                ..\n",
       "ASD              1\n",
       "VICO             1\n",
       "LICORNE          1\n",
       "LOSVID           1\n",
       "MindMyMindFU     1\n",
       "Name: count, Length: 2338, dtype: int64"
      ]
     },
     "execution_count": 84,
     "metadata": {},
     "output_type": "execute_result"
    }
   ],
   "source": [
    "#Let's start with Acronym \n",
    "print(f\"Number of unique values is {df.Acronym.nunique()}\")\n",
    "df.Acronym.value_counts()"
   ]
  },
  {
   "cell_type": "code",
   "execution_count": 88,
   "id": "8db56052-9957-4183-aefd-0f3ff0caeb63",
   "metadata": {},
   "outputs": [
    {
     "data": {
      "text/plain": [
       "Country\n",
       "Albania                     0.000000\n",
       "Algeria                     0.000000\n",
       "Argentina                  57.446809\n",
       "Australia                  53.846154\n",
       "Austria                    62.068966\n",
       "Azerbaijan                100.000000\n",
       "Bahrain                   100.000000\n",
       "Bangladesh                 80.000000\n",
       "Barbados                    0.000000\n",
       "Belarus                   100.000000\n",
       "Belgium                    47.252747\n",
       "Bolivia                    50.000000\n",
       "Bosnia and Herzegovina    100.000000\n",
       "Brazil                     59.124088\n",
       "Bulgaria                  100.000000\n",
       "Burkina Faso                0.000000\n",
       "Cambodia                  100.000000\n",
       "Cameroon                    0.000000\n",
       "Canada                     55.940594\n",
       "Cape Verde                100.000000\n",
       "Chile                      64.705882\n",
       "China                      87.134503\n",
       "Colombia                   51.515152\n",
       "Costa Rica                 33.333333\n",
       "Croatia                    50.000000\n",
       "Cyprus                    100.000000\n",
       "Czechia                    33.333333\n",
       "Côte D'Ivoire               0.000000\n",
       "Denmark                    48.214286\n",
       "Dominican Republic        100.000000\n",
       "Ecuador                   100.000000\n",
       "Egypt                      83.854167\n",
       "Ethiopia                   66.666667\n",
       "Finland                    16.666667\n",
       "France                     10.664606\n",
       "French Guiana              20.000000\n",
       "Gambia                      0.000000\n",
       "Germany                    47.656250\n",
       "Ghana                       0.000000\n",
       "Greece                     42.307692\n",
       "Guinea                      0.000000\n",
       "Guinea-Bissau             100.000000\n",
       "Honduras                   50.000000\n",
       "Hong Kong                  80.555556\n",
       "Hungary                    83.333333\n",
       "Iceland                    50.000000\n",
       "India                      80.000000\n",
       "Indonesia                  71.428571\n",
       "Iraq                      100.000000\n",
       "Ireland                    22.222222\n",
       "Islamic Republic of        65.217391\n",
       "Israel                     75.000000\n",
       "Italy                      40.425532\n",
       "Jamaica                    50.000000\n",
       "Japan                      88.888889\n",
       "Jordan                     72.727273\n",
       "Kazakhstan                 80.000000\n",
       "Kenya                      66.666667\n",
       "Kuwait                     87.500000\n",
       "Kyrgyzstan                100.000000\n",
       "Name: Acronym, dtype: float64"
      ]
     },
     "execution_count": 88,
     "metadata": {},
     "output_type": "execute_result"
    }
   ],
   "source": [
    "#Find the relation between null values in Acronym and Countries\n",
    "(df.Acronym.isnull().groupby(df.Country).mean()*100)[:60]"
   ]
  },
  {
   "cell_type": "markdown",
   "id": "0f7c8443-3ecc-486e-ab81-be1ed1094efd",
   "metadata": {},
   "source": [
    "After inspecting the relation between the missing values in Acronym and Country we can conclude that there is a sort \n",
    "of relation . So we can impute by Missing Category"
   ]
  },
  {
   "cell_type": "code",
   "execution_count": 90,
   "id": "53c600f7-24e2-4b91-8d3e-13d1fdb7658a",
   "metadata": {},
   "outputs": [],
   "source": [
    "#impute by a missing indicator\n",
    "df.Acronym = df.Acronym.fillna(\"Missing Acronym\")"
   ]
  },
  {
   "cell_type": "code",
   "execution_count": 6,
   "id": "686cae67-9dc6-405d-83cb-6e5f0e9fc6b7",
   "metadata": {},
   "outputs": [
    {
     "data": {
      "text/plain": [
       "Rank                        0.000000\n",
       "NCT Number                  0.000000\n",
       "Title                       0.000000\n",
       "Acronym                    57.115684\n",
       "Status                      0.000000\n",
       "Study Results               0.000000\n",
       "Conditions                  0.000000\n",
       "Interventions              15.320768\n",
       "Outcome Measures            0.605222\n",
       "Sponsor/Collaborators       0.000000\n",
       "Gender                      0.172921\n",
       "Age                         0.000000\n",
       "Phases                     42.555767\n",
       "Enrollment                  0.587930\n",
       "Funded Bys                  0.000000\n",
       "Study Type                  0.000000\n",
       "Study Designs               0.605222\n",
       "Other IDs                   0.017292\n",
       "Start Date                  0.587930\n",
       "Primary Completion Date     0.622514\n",
       "Completion Date             0.622514\n",
       "First Posted                0.000000\n",
       "Results First Posted       99.377486\n",
       "Last Update Posted          0.000000\n",
       "Locations                  10.115857\n",
       "Study Documents            96.852845\n",
       "URL                         0.000000\n",
       "dtype: float64"
      ]
     },
     "execution_count": 6,
     "metadata": {},
     "output_type": "execute_result"
    }
   ],
   "source": [
    "df.isnull().mean()*100"
   ]
  },
  {
   "cell_type": "markdown",
   "id": "f49a31fe-0804-46fa-8f5f-26f49f8df1e7",
   "metadata": {},
   "source": [
    "We can do the same for other categorical features such as interventions , phases , locations and other categorical features "
   ]
  },
  {
   "cell_type": "code",
   "execution_count": 95,
   "id": "81bf30e4-c23a-4ebc-b6b2-666a5c5f31be",
   "metadata": {},
   "outputs": [],
   "source": [
    "categorical_feature = df.select_dtypes(include = object).columns\n",
    "features = categorical_feature[df[categorical_feature].isnull().mean()>0]\n",
    "for i in features:\n",
    "    df[i] = df[i].fillna(f\"Missing{i}\")"
   ]
  },
  {
   "cell_type": "code",
   "execution_count": 96,
   "id": "272ddd30-d9d5-4da3-b5d8-6b26ad6735d5",
   "metadata": {},
   "outputs": [
    {
     "data": {
      "text/plain": [
       "NCT Number                 0.00000\n",
       "Title                      0.00000\n",
       "Acronym                    0.00000\n",
       "Status                     0.00000\n",
       "Study Results              0.00000\n",
       "Conditions                 0.00000\n",
       "Interventions              0.00000\n",
       "Outcome Measures           0.00000\n",
       "Sponsor/Collaborators      0.00000\n",
       "Gender                     0.00000\n",
       "Age                        0.00000\n",
       "Phases                     0.00000\n",
       "Enrollment                 0.58793\n",
       "Funded Bys                 0.00000\n",
       "Study Type                 0.00000\n",
       "Study Designs              0.00000\n",
       "Other IDs                  0.00000\n",
       "Start Date                 0.00000\n",
       "Primary Completion Date    0.00000\n",
       "Completion Date            0.00000\n",
       "First Posted               0.00000\n",
       "Last Update Posted         0.00000\n",
       "Locations                  0.00000\n",
       "URL                        0.00000\n",
       "Country                    0.00000\n",
       "dtype: float64"
      ]
     },
     "execution_count": 96,
     "metadata": {},
     "output_type": "execute_result"
    }
   ],
   "source": [
    "df.isnull().mean()*100"
   ]
  },
  {
   "cell_type": "markdown",
   "id": "c8a61d3b-8e2b-4829-b848-cd9c00e8604b",
   "metadata": {},
   "source": [
    "Now the Time to handle The missing data for the Enrollment"
   ]
  },
  {
   "cell_type": "code",
   "execution_count": 97,
   "id": "627a0453-a135-4241-9240-6630acf5b680",
   "metadata": {},
   "outputs": [
    {
     "data": {
      "text/plain": [
       "34.06593382031148"
      ]
     },
     "execution_count": 97,
     "metadata": {},
     "output_type": "execute_result"
    }
   ],
   "source": [
    "#check the skewness\n",
    "df.Enrollment.skew()"
   ]
  },
  {
   "cell_type": "markdown",
   "id": "5a5bb1fa-0b4b-4bba-8483-1a39a786d266",
   "metadata": {},
   "source": [
    "The value of Skewness is 34 which means that this feature is isn't normally distributed "
   ]
  },
  {
   "cell_type": "code",
   "execution_count": 105,
   "id": "0be6ad6e-1dfc-431e-9dba-49eccc9c5a7e",
   "metadata": {},
   "outputs": [
    {
     "data": {
      "image/png": "[encoded data removed]",
      "text/plain": [
       "<Figure size 800x300 with 1 Axes>"
      ]
     },
     "metadata": {},
     "output_type": "display_data"
    }
   ],
   "source": [
    "#Plotting the distribution of the enrollment \n",
    "plt.figure(figsize=(8,3))\n",
    "df.Enrollment.plot(kind='kde')\n",
    "plt.show()"
   ]
  },
  {
   "cell_type": "markdown",
   "id": "f05c7520-7b46-43b2-87a3-1e6949d4ae3c",
   "metadata": {},
   "source": [
    "So we will impute by the medain"
   ]
  },
  {
   "cell_type": "code",
   "execution_count": 107,
   "id": "769bc16c-fecb-4164-8db4-6ce56898b4df",
   "metadata": {},
   "outputs": [
    {
     "data": {
      "text/plain": [
       "count    5.749000e+03\n",
       "mean     1.831949e+04\n",
       "std      4.045437e+05\n",
       "min      0.000000e+00\n",
       "25%      6.000000e+01\n",
       "50%      1.700000e+02\n",
       "75%      5.600000e+02\n",
       "max      2.000000e+07\n",
       "Name: Enrollment, dtype: float64"
      ]
     },
     "execution_count": 107,
     "metadata": {},
     "output_type": "execute_result"
    }
   ],
   "source": [
    "#some statstical values for the enrollment column \n",
    "df.Enrollment.describe()"
   ]
  },
  {
   "cell_type": "code",
   "execution_count": 109,
   "id": "592d8a9c-7aec-4d69-b30b-503084bd6b49",
   "metadata": {},
   "outputs": [],
   "source": [
    "median_value = df.Enrollment.median()\n",
    "df.Enrollment = df.Enrollment.fillna(median_value)"
   ]
  },
  {
   "cell_type": "code",
   "execution_count": 110,
   "id": "5c0a3927-4a3e-43a0-a992-6b3a751ff74e",
   "metadata": {},
   "outputs": [
    {
     "data": {
      "text/plain": [
       "NCT Number                 0.0\n",
       "Title                      0.0\n",
       "Acronym                    0.0\n",
       "Status                     0.0\n",
       "Study Results              0.0\n",
       "Conditions                 0.0\n",
       "Interventions              0.0\n",
       "Outcome Measures           0.0\n",
       "Sponsor/Collaborators      0.0\n",
       "Gender                     0.0\n",
       "Age                        0.0\n",
       "Phases                     0.0\n",
       "Enrollment                 0.0\n",
       "Funded Bys                 0.0\n",
       "Study Type                 0.0\n",
       "Study Designs              0.0\n",
       "Other IDs                  0.0\n",
       "Start Date                 0.0\n",
       "Primary Completion Date    0.0\n",
       "Completion Date            0.0\n",
       "First Posted               0.0\n",
       "Last Update Posted         0.0\n",
       "Locations                  0.0\n",
       "URL                        0.0\n",
       "Country                    0.0\n",
       "dtype: float64"
      ]
     },
     "execution_count": 110,
     "metadata": {},
     "output_type": "execute_result"
    }
   ],
   "source": [
    "#Check null values\n",
    "df.isnull().mean()*100"
   ]
  },
  {
   "cell_type": "code",
   "execution_count": 111,
   "id": "38e6751e-ca6b-48d9-8332-7a24e03f105e",
   "metadata": {},
   "outputs": [
    {
     "data": {
      "text/html": [
       "<div>\n",
       "<style scoped>\n",
       "    .dataframe tbody tr th:only-of-type {\n",
       "        vertical-align: middle;\n",
       "    }\n",
       "\n",
       "    .dataframe tbody tr th {\n",
       "        vertical-align: top;\n",
       "    }\n",
       "\n",
       "    .dataframe thead th {\n",
       "        text-align: right;\n",
       "    }\n",
       "</style>\n",
       "<table border=\"1\" class=\"dataframe\">\n",
       "  <thead>\n",
       "    <tr style=\"text-align: right;\">\n",
       "      <th></th>\n",
       "      <th>NCT Number</th>\n",
       "      <th>Title</th>\n",
       "      <th>Acronym</th>\n",
       "      <th>Status</th>\n",
       "      <th>Study Results</th>\n",
       "      <th>Conditions</th>\n",
       "      <th>Interventions</th>\n",
       "      <th>Outcome Measures</th>\n",
       "      <th>Sponsor/Collaborators</th>\n",
       "      <th>Gender</th>\n",
       "      <th>...</th>\n",
       "      <th>Study Designs</th>\n",
       "      <th>Other IDs</th>\n",
       "      <th>Start Date</th>\n",
       "      <th>Primary Completion Date</th>\n",
       "      <th>Completion Date</th>\n",
       "      <th>First Posted</th>\n",
       "      <th>Last Update Posted</th>\n",
       "      <th>Locations</th>\n",
       "      <th>URL</th>\n",
       "      <th>Country</th>\n",
       "    </tr>\n",
       "  </thead>\n",
       "  <tbody>\n",
       "    <tr>\n",
       "      <th>0</th>\n",
       "      <td>NCT04785898</td>\n",
       "      <td>Diagnostic Performance of the ID Now™ COVID-19...</td>\n",
       "      <td>COVID-IDNow</td>\n",
       "      <td>Active, not recruiting</td>\n",
       "      <td>No Results Available</td>\n",
       "      <td>Covid19</td>\n",
       "      <td>Diagnostic Test: ID Now™ COVID-19 Screening Test</td>\n",
       "      <td>Evaluate the diagnostic performance of the ID ...</td>\n",
       "      <td>Groupe Hospitalier Paris Saint Joseph</td>\n",
       "      <td>All</td>\n",
       "      <td>...</td>\n",
       "      <td>Allocation: N/A|Intervention Model: Single Gro...</td>\n",
       "      <td>COVID-IDNow</td>\n",
       "      <td>November 9, 2020</td>\n",
       "      <td>December 22, 2020</td>\n",
       "      <td>April 30, 2021</td>\n",
       "      <td>March 8, 2021</td>\n",
       "      <td>March 8, 2021</td>\n",
       "      <td>Groupe Hospitalier Paris Saint-Joseph, Paris, ...</td>\n",
       "      <td>https://ClinicalTrials.gov/show/NCT04785898</td>\n",
       "      <td>France</td>\n",
       "    </tr>\n",
       "    <tr>\n",
       "      <th>1</th>\n",
       "      <td>NCT04595136</td>\n",
       "      <td>Study to Evaluate the Efficacy of COVID19-0001...</td>\n",
       "      <td>COVID-19</td>\n",
       "      <td>Not yet recruiting</td>\n",
       "      <td>No Results Available</td>\n",
       "      <td>SARS-CoV-2 Infection</td>\n",
       "      <td>Drug: Drug COVID19-0001-USR|Drug: normal saline</td>\n",
       "      <td>Change on viral load results from baseline aft...</td>\n",
       "      <td>United Medical Specialties</td>\n",
       "      <td>All</td>\n",
       "      <td>...</td>\n",
       "      <td>Allocation: Randomized|Intervention Model: Par...</td>\n",
       "      <td>COVID19-0001-USR</td>\n",
       "      <td>November 2, 2020</td>\n",
       "      <td>December 15, 2020</td>\n",
       "      <td>January 29, 2021</td>\n",
       "      <td>October 20, 2020</td>\n",
       "      <td>October 20, 2020</td>\n",
       "      <td>Cimedical, Barranquilla, Atlantico, Colombia</td>\n",
       "      <td>https://ClinicalTrials.gov/show/NCT04595136</td>\n",
       "      <td>Colombia</td>\n",
       "    </tr>\n",
       "    <tr>\n",
       "      <th>2</th>\n",
       "      <td>NCT04395482</td>\n",
       "      <td>Lung CT Scan Analysis of SARS-CoV2 Induced Lun...</td>\n",
       "      <td>TAC-COVID19</td>\n",
       "      <td>Recruiting</td>\n",
       "      <td>No Results Available</td>\n",
       "      <td>covid19</td>\n",
       "      <td>Other: Lung CT scan analysis in COVID-19 patients</td>\n",
       "      <td>A qualitative analysis of parenchymal lung dam...</td>\n",
       "      <td>University of Milano Bicocca</td>\n",
       "      <td>All</td>\n",
       "      <td>...</td>\n",
       "      <td>Observational Model: Cohort|Time Perspective: ...</td>\n",
       "      <td>TAC-COVID19</td>\n",
       "      <td>May 7, 2020</td>\n",
       "      <td>June 15, 2021</td>\n",
       "      <td>June 15, 2021</td>\n",
       "      <td>May 20, 2020</td>\n",
       "      <td>November 9, 2020</td>\n",
       "      <td>Ospedale Papa Giovanni XXIII, Bergamo, Italy|P...</td>\n",
       "      <td>https://ClinicalTrials.gov/show/NCT04395482</td>\n",
       "      <td>San Marino</td>\n",
       "    </tr>\n",
       "    <tr>\n",
       "      <th>3</th>\n",
       "      <td>NCT04416061</td>\n",
       "      <td>The Role of a Private Hospital in Hong Kong Am...</td>\n",
       "      <td>COVID-19</td>\n",
       "      <td>Active, not recruiting</td>\n",
       "      <td>No Results Available</td>\n",
       "      <td>COVID</td>\n",
       "      <td>Diagnostic Test: COVID 19 Diagnostic Test</td>\n",
       "      <td>Proportion of asymptomatic subjects|Proportion...</td>\n",
       "      <td>Hong Kong Sanatorium &amp; Hospital</td>\n",
       "      <td>All</td>\n",
       "      <td>...</td>\n",
       "      <td>Observational Model: Cohort|Time Perspective: ...</td>\n",
       "      <td>RC-2020-08</td>\n",
       "      <td>May 25, 2020</td>\n",
       "      <td>July 31, 2020</td>\n",
       "      <td>August 31, 2020</td>\n",
       "      <td>June 4, 2020</td>\n",
       "      <td>June 4, 2020</td>\n",
       "      <td>Hong Kong Sanatorium &amp; Hospital, Hong Kong, Ho...</td>\n",
       "      <td>https://ClinicalTrials.gov/show/NCT04416061</td>\n",
       "      <td>Hong Kong</td>\n",
       "    </tr>\n",
       "    <tr>\n",
       "      <th>4</th>\n",
       "      <td>NCT04395924</td>\n",
       "      <td>Maternal-foetal Transmission of SARS-Cov-2</td>\n",
       "      <td>TMF-COVID-19</td>\n",
       "      <td>Recruiting</td>\n",
       "      <td>No Results Available</td>\n",
       "      <td>Maternal Fetal Infection Transmission|COVID-19...</td>\n",
       "      <td>Diagnostic Test: Diagnosis of SARS-Cov2 by RT-...</td>\n",
       "      <td>COVID-19 by positive PCR in cord blood and / o...</td>\n",
       "      <td>Centre Hospitalier Régional d'Orléans|Centre d...</td>\n",
       "      <td>Female</td>\n",
       "      <td>...</td>\n",
       "      <td>Observational Model: Cohort|Time Perspective: ...</td>\n",
       "      <td>CHRO-2020-10</td>\n",
       "      <td>May 5, 2020</td>\n",
       "      <td>May 2021</td>\n",
       "      <td>May 2021</td>\n",
       "      <td>May 20, 2020</td>\n",
       "      <td>June 4, 2020</td>\n",
       "      <td>CHR Orléans, Orléans, France</td>\n",
       "      <td>https://ClinicalTrials.gov/show/NCT04395924</td>\n",
       "      <td>France</td>\n",
       "    </tr>\n",
       "  </tbody>\n",
       "</table>\n",
       "<p>5 rows × 25 columns</p>\n",
       "</div>"
      ],
      "text/plain": [
       "    NCT Number                                              Title  \\\n",
       "0  NCT04785898  Diagnostic Performance of the ID Now™ COVID-19...   \n",
       "1  NCT04595136  Study to Evaluate the Efficacy of COVID19-0001...   \n",
       "2  NCT04395482  Lung CT Scan Analysis of SARS-CoV2 Induced Lun...   \n",
       "3  NCT04416061  The Role of a Private Hospital in Hong Kong Am...   \n",
       "4  NCT04395924         Maternal-foetal Transmission of SARS-Cov-2   \n",
       "\n",
       "        Acronym                  Status         Study Results  \\\n",
       "0   COVID-IDNow  Active, not recruiting  No Results Available   \n",
       "1      COVID-19      Not yet recruiting  No Results Available   \n",
       "2   TAC-COVID19              Recruiting  No Results Available   \n",
       "3      COVID-19  Active, not recruiting  No Results Available   \n",
       "4  TMF-COVID-19              Recruiting  No Results Available   \n",
       "\n",
       "                                          Conditions  \\\n",
       "0                                            Covid19   \n",
       "1                               SARS-CoV-2 Infection   \n",
       "2                                            covid19   \n",
       "3                                              COVID   \n",
       "4  Maternal Fetal Infection Transmission|COVID-19...   \n",
       "\n",
       "                                       Interventions  \\\n",
       "0   Diagnostic Test: ID Now™ COVID-19 Screening Test   \n",
       "1    Drug: Drug COVID19-0001-USR|Drug: normal saline   \n",
       "2  Other: Lung CT scan analysis in COVID-19 patients   \n",
       "3          Diagnostic Test: COVID 19 Diagnostic Test   \n",
       "4  Diagnostic Test: Diagnosis of SARS-Cov2 by RT-...   \n",
       "\n",
       "                                    Outcome Measures  \\\n",
       "0  Evaluate the diagnostic performance of the ID ...   \n",
       "1  Change on viral load results from baseline aft...   \n",
       "2  A qualitative analysis of parenchymal lung dam...   \n",
       "3  Proportion of asymptomatic subjects|Proportion...   \n",
       "4  COVID-19 by positive PCR in cord blood and / o...   \n",
       "\n",
       "                               Sponsor/Collaborators  Gender  ...  \\\n",
       "0              Groupe Hospitalier Paris Saint Joseph     All  ...   \n",
       "1                         United Medical Specialties     All  ...   \n",
       "2                       University of Milano Bicocca     All  ...   \n",
       "3                    Hong Kong Sanatorium & Hospital     All  ...   \n",
       "4  Centre Hospitalier Régional d'Orléans|Centre d...  Female  ...   \n",
       "\n",
       "                                       Study Designs         Other IDs  \\\n",
       "0  Allocation: N/A|Intervention Model: Single Gro...       COVID-IDNow   \n",
       "1  Allocation: Randomized|Intervention Model: Par...  COVID19-0001-USR   \n",
       "2  Observational Model: Cohort|Time Perspective: ...       TAC-COVID19   \n",
       "3  Observational Model: Cohort|Time Perspective: ...        RC-2020-08   \n",
       "4  Observational Model: Cohort|Time Perspective: ...      CHRO-2020-10   \n",
       "\n",
       "         Start Date Primary Completion Date   Completion Date  \\\n",
       "0  November 9, 2020       December 22, 2020    April 30, 2021   \n",
       "1  November 2, 2020       December 15, 2020  January 29, 2021   \n",
       "2       May 7, 2020           June 15, 2021     June 15, 2021   \n",
       "3      May 25, 2020           July 31, 2020   August 31, 2020   \n",
       "4       May 5, 2020                May 2021          May 2021   \n",
       "\n",
       "       First Posted Last Update Posted  \\\n",
       "0     March 8, 2021      March 8, 2021   \n",
       "1  October 20, 2020   October 20, 2020   \n",
       "2      May 20, 2020   November 9, 2020   \n",
       "3      June 4, 2020       June 4, 2020   \n",
       "4      May 20, 2020       June 4, 2020   \n",
       "\n",
       "                                           Locations  \\\n",
       "0  Groupe Hospitalier Paris Saint-Joseph, Paris, ...   \n",
       "1       Cimedical, Barranquilla, Atlantico, Colombia   \n",
       "2  Ospedale Papa Giovanni XXIII, Bergamo, Italy|P...   \n",
       "3  Hong Kong Sanatorium & Hospital, Hong Kong, Ho...   \n",
       "4                       CHR Orléans, Orléans, France   \n",
       "\n",
       "                                           URL      Country  \n",
       "0  https://ClinicalTrials.gov/show/NCT04785898       France  \n",
       "1  https://ClinicalTrials.gov/show/NCT04595136     Colombia  \n",
       "2  https://ClinicalTrials.gov/show/NCT04395482   San Marino  \n",
       "3  https://ClinicalTrials.gov/show/NCT04416061    Hong Kong  \n",
       "4  https://ClinicalTrials.gov/show/NCT04395924       France  \n",
       "\n",
       "[5 rows x 25 columns]"
      ]
     },
     "execution_count": 111,
     "metadata": {},
     "output_type": "execute_result"
    }
   ],
   "source": [
    "df.head(5)"
   ]
  },
  {
   "cell_type": "markdown",
   "id": "9723a54a-27cd-4fdc-9d9b-e83268a4ae56",
   "metadata": {},
   "source": [
    "**Data Visualizations**"
   ]
  },
  {
   "cell_type": "markdown",
   "id": "76e17777-a181-40a8-b32c-8679d67344ec",
   "metadata": {},
   "source": [
    "Univariate Analysis \n",
    "1. Status Distribution\n",
    "2. Phase Distribution\n",
    "3. Age Group Analysis"
   ]
  },
  {
   "cell_type": "markdown",
   "id": "93f35a0a-4f3c-48d4-8e6b-9cdb70be5377",
   "metadata": {},
   "source": [
    "Bivariate Analysis\n",
    "1. Status vs Phases\n",
    "2. Conditions vs Outcome Measures\n",
    "3. Time Series Analysis"
   ]
  },
  {
   "cell_type": "code",
   "execution_count": 112,
   "id": "b97cd981-1ca7-4c55-81d9-f6b15b73a375",
   "metadata": {},
   "outputs": [
    {
     "data": {
      "image/png": "[encoded data removed]",
      "text/plain": [
       "<Figure size 800x600 with 1 Axes>"
      ]
     },
     "metadata": {},
     "output_type": "display_data"
    }
   ],
   "source": [
    "#Get Countries with highest Contributions\n",
    "top_10_Countries = df.Country.value_counts()[:10]\n",
    "visualize_data(top_10_Countries , caption = 'Top 10 Countries' , ylabel = 'Contributions')"
   ]
  },
  {
   "cell_type": "markdown",
   "id": "e2549ef0-2f3e-4bb4-81d0-f4e052d6d948",
   "metadata": {},
   "source": [
    "As we seen that our top 10 countrys in this plot and topped country is United States ."
   ]
  },
  {
   "cell_type": "code",
   "execution_count": 116,
   "id": "58899ccf-b119-4419-830d-96651ae9e501",
   "metadata": {},
   "outputs": [
    {
     "data": {
      "image/png": "[encoded data removed]",
      "text/plain": [
       "<Figure size 800x600 with 1 Axes>"
      ]
     },
     "metadata": {},
     "output_type": "display_data"
    }
   ],
   "source": [
    "#Status of the Application \n",
    "status = df.Status.value_counts()\n",
    "visualize_data(status , caption = 'Status of The Application', ylabel = 'Denisty') "
   ]
  },
  {
   "cell_type": "markdown",
   "id": "f8e9c3ba-5196-47e3-8b2b-f78a23494dfb",
   "metadata": {},
   "source": [
    "The Status of Application is mostly in Recruititng form , and many are of these in completed state . "
   ]
  },
  {
   "cell_type": "code",
   "execution_count": 117,
   "id": "1261018f-27d5-46b5-aad3-85da10636218",
   "metadata": {},
   "outputs": [
    {
     "data": {
      "image/png": "[encoded data removed]",
      "text/plain": [
       "<Figure size 800x600 with 1 Axes>"
      ]
     },
     "metadata": {},
     "output_type": "display_data"
    }
   ],
   "source": [
    "#Gender Visualiztions\n",
    "gender = df.Gender.value_counts()\n",
    "visualize_data(gender,caption = 'Gender Distribution',ylabel = 'Denisty')"
   ]
  },
  {
   "cell_type": "code",
   "execution_count": 126,
   "id": "95795480-3679-4c74-9cce-e40deaafa919",
   "metadata": {},
   "outputs": [
    {
     "data": {
      "image/png": "[encoded data removed]",
      "text/plain": [
       "<Figure size 800x600 with 1 Axes>"
      ]
     },
     "metadata": {},
     "output_type": "display_data"
    }
   ],
   "source": [
    "#Which month has the highest start\n",
    "start_month = pd.Series([str(df['Start Date'].iloc[i])[0]for i in range(df.shape[0])])\n",
    "start_month_Distribution = start_month.value_counts()\n",
    "\n",
    "visualize_data(start_month_Distribution , caption = 'Start Month Distribution',ylabel = 'Density')"
   ]
  },
  {
   "cell_type": "markdown",
   "id": "e9f1a8e1-eb09-4244-b38c-2993bc4cbeb9",
   "metadata": {},
   "source": [
    "**Conclusion**"
   ]
  },
  {
   "cell_type": "markdown",
   "id": "d5f83ddb-abcb-4348-b851-e1507fcfb210",
   "metadata": {},
   "source": [
    "Findings from your EDA :\n",
    "1. The majority of trials are in the \"Completed\" phase and \"Recruiting\" .\n",
    "2. Most trials target adult populations .\n",
    "3. There's a steady increase in the number of trials over time .\n",
    "4. Top Countrys where most of the trails are held in United States,France and United Kingdom ."
   ]
  }
 ],
 "metadata": {
  "kernelspec": {
   "display_name": "Python 3 (ipykernel)",
   "language": "python",
   "name": "python3"
  },
  "language_info": {
   "codemirror_mode": {
    "name": "ipython",
    "version": 3
   },
   "file_extension": ".py",
   "mimetype": "text/x-python",
   "name": "python",
   "nbconvert_exporter": "python",
   "pygments_lexer": "ipython3",
   "version": "3.12.7"
  }
 },
 "nbformat": 4,
 "nbformat_minor": 5
}
